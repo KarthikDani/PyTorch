{
  "nbformat": 4,
  "nbformat_minor": 0,
  "metadata": {
    "colab": {
      "provenance": []
    },
    "kernelspec": {
      "name": "python3",
      "display_name": "Python 3"
    },
    "language_info": {
      "name": "python"
    }
  },
  "cells": [
    {
      "cell_type": "code",
      "execution_count": 1,
      "metadata": {
        "id": "Vob6u-6LvUpR"
      },
      "outputs": [],
      "source": [
        "import tensorflow as tf"
      ]
    },
    {
      "cell_type": "code",
      "source": [
        "tensor_zero_d = tf.constant(8)\n",
        "print(tensor_zero_d)"
      ],
      "metadata": {
        "id": "A9lgBYZqvaaR",
        "colab": {
          "base_uri": "https://localhost:8080/"
        },
        "outputId": "b0e843bc-d751-4589-92e1-b27667ccf59b"
      },
      "execution_count": 2,
      "outputs": [
        {
          "output_type": "stream",
          "name": "stdout",
          "text": [
            "tf.Tensor(8, shape=(), dtype=int32)\n"
          ]
        }
      ]
    },
    {
      "cell_type": "code",
      "source": [
        "tensor_one_d = tf.constant([5, 7, -9.])\n",
        "print(tensor_one_d)"
      ],
      "metadata": {
        "colab": {
          "base_uri": "https://localhost:8080/"
        },
        "id": "esMKPBGNwVBS",
        "outputId": "96cde16b-1f14-4b3f-d476-780543a1f014"
      },
      "execution_count": 3,
      "outputs": [
        {
          "output_type": "stream",
          "name": "stdout",
          "text": [
            "tf.Tensor([ 5.  7. -9.], shape=(3,), dtype=float32)\n"
          ]
        }
      ]
    },
    {
      "cell_type": "code",
      "source": [
        "tensor_two_d = tf.constant([\n",
        "    [1, 2, 8],\n",
        "    [5, 9, 0],\n",
        "    [4, 6, 12],\n",
        "    [43, 1, 0]\n",
        "])\n",
        "print(tensor_two_d)"
      ],
      "metadata": {
        "colab": {
          "base_uri": "https://localhost:8080/"
        },
        "id": "Rm2UIz7Iwg4q",
        "outputId": "9c164812-3b07-47f9-fd14-c68238bf5636"
      },
      "execution_count": 4,
      "outputs": [
        {
          "output_type": "stream",
          "name": "stdout",
          "text": [
            "tf.Tensor(\n",
            "[[ 1  2  8]\n",
            " [ 5  9  0]\n",
            " [ 4  6 12]\n",
            " [43  1  0]], shape=(4, 3), dtype=int32)\n"
          ]
        }
      ]
    },
    {
      "cell_type": "code",
      "source": [
        "tensor_three_d = tf.constant([\n",
        "        [\n",
        "            [1, 2, 3, 4],\n",
        "            [5, 6, 7, 8],\n",
        "            [9, 10, 11, 12]\n",
        "        ],\n",
        "\n",
        "        [\n",
        "            [13, 14, 15, 16],\n",
        "            [17, 18, 19, 20],\n",
        "            [21, 22, 23, 24]\n",
        "        ]\n",
        "\n",
        "])\n",
        "print(tensor_three_d)\n",
        "print(\"Dimension = \", tensor_three_d.ndim)"
      ],
      "metadata": {
        "colab": {
          "base_uri": "https://localhost:8080/"
        },
        "id": "TU040jpMxCxt",
        "outputId": "155f0f8b-4ee7-4c4a-ed49-a3e42f355843"
      },
      "execution_count": 5,
      "outputs": [
        {
          "output_type": "stream",
          "name": "stdout",
          "text": [
            "tf.Tensor(\n",
            "[[[ 1  2  3  4]\n",
            "  [ 5  6  7  8]\n",
            "  [ 9 10 11 12]]\n",
            "\n",
            " [[13 14 15 16]\n",
            "  [17 18 19 20]\n",
            "  [21 22 23 24]]], shape=(2, 3, 4), dtype=int32)\n",
            "Dimension =  3\n"
          ]
        }
      ]
    },
    {
      "cell_type": "code",
      "source": [
        "tensor_four_d = tf.constant([\n",
        "    [\n",
        "        [\n",
        "            [1, 2, 3, 4],\n",
        "            [5, 6, 7, 8],\n",
        "            [9, 10, 11, 12]\n",
        "        ],\n",
        "\n",
        "        [\n",
        "            [13, 14, 15, 16],\n",
        "            [17, 18, 19, 20],\n",
        "            [21, 22, 23, 24]\n",
        "        ]\n",
        "\n",
        "    ]\n",
        "])\n",
        "print(tensor_four_d)"
      ],
      "metadata": {
        "colab": {
          "base_uri": "https://localhost:8080/"
        },
        "id": "dOhxATGyyM1g",
        "outputId": "964d02cc-e98b-40fb-b829-c833140da0cc"
      },
      "execution_count": 6,
      "outputs": [
        {
          "output_type": "stream",
          "name": "stdout",
          "text": [
            "tf.Tensor(\n",
            "[[[[ 1  2  3  4]\n",
            "   [ 5  6  7  8]\n",
            "   [ 9 10 11 12]]\n",
            "\n",
            "  [[13 14 15 16]\n",
            "   [17 18 19 20]\n",
            "   [21 22 23 24]]]], shape=(1, 2, 3, 4), dtype=int32)\n"
          ]
        }
      ]
    },
    {
      "cell_type": "code",
      "source": [
        "# cast() -> zero for False and the other numbers True\n",
        "tf.cast(tensor_one_d, dtype=tf.bool)"
      ],
      "metadata": {
        "colab": {
          "base_uri": "https://localhost:8080/"
        },
        "id": "Yy3KYbCQzCjT",
        "outputId": "1b4f9bc4-8b0a-45bc-a1b2-99d2c6e16710"
      },
      "execution_count": 7,
      "outputs": [
        {
          "output_type": "execute_result",
          "data": {
            "text/plain": [
              "<tf.Tensor: shape=(3,), dtype=bool, numpy=array([ True,  True,  True])>"
            ]
          },
          "metadata": {},
          "execution_count": 7
        }
      ]
    },
    {
      "cell_type": "code",
      "source": [
        "tensor_bool = tf.constant([True, False, True])\n",
        "print(tensor_bool)\n",
        "\n",
        "# Casting bool to int16\n",
        "tf.cast(tensor_bool, dtype=tf.int16)"
      ],
      "metadata": {
        "colab": {
          "base_uri": "https://localhost:8080/"
        },
        "id": "erWo64Vw0OS8",
        "outputId": "24361429-abbf-4726-a012-a8e5440b28aa"
      },
      "execution_count": 8,
      "outputs": [
        {
          "output_type": "stream",
          "name": "stdout",
          "text": [
            "tf.Tensor([ True False  True], shape=(3,), dtype=bool)\n"
          ]
        },
        {
          "output_type": "execute_result",
          "data": {
            "text/plain": [
              "<tf.Tensor: shape=(3,), dtype=int16, numpy=array([1, 0, 1], dtype=int16)>"
            ]
          },
          "metadata": {},
          "execution_count": 8
        }
      ]
    },
    {
      "cell_type": "code",
      "source": [
        "tensor_string = tf.constant([\"hello World!\", \"How are you?\"])\n",
        "print(tensor_string)"
      ],
      "metadata": {
        "colab": {
          "base_uri": "https://localhost:8080/"
        },
        "id": "Kcl6U6ss0r33",
        "outputId": "752b0d50-247d-451d-dd90-af1ca0d3a16e"
      },
      "execution_count": 9,
      "outputs": [
        {
          "output_type": "stream",
          "name": "stdout",
          "text": [
            "tf.Tensor([b'hello World!' b'How are you?'], shape=(2,), dtype=string)\n"
          ]
        }
      ]
    },
    {
      "cell_type": "markdown",
      "source": [
        "### Converting numpy_array to tensor"
      ],
      "metadata": {
        "id": "ypb1Lcbq1fAR"
      }
    },
    {
      "cell_type": "code",
      "source": [
        "import numpy as np"
      ],
      "metadata": {
        "id": "GoecQPHK1BBO"
      },
      "execution_count": 10,
      "outputs": []
    },
    {
      "cell_type": "code",
      "source": [
        "np_array = np.array([1, 6, 21])\n",
        "\n",
        "tensor_array = tf.convert_to_tensor(np_array)\n",
        "print(tensor_array)"
      ],
      "metadata": {
        "colab": {
          "base_uri": "https://localhost:8080/"
        },
        "id": "ihJY13l11PRu",
        "outputId": "23691ea3-3e7d-4397-f994-2e31c57cbf93"
      },
      "execution_count": 11,
      "outputs": [
        {
          "output_type": "stream",
          "name": "stdout",
          "text": [
            "tf.Tensor([ 1  6 21], shape=(3,), dtype=int64)\n"
          ]
        }
      ]
    },
    {
      "cell_type": "markdown",
      "source": [
        "### Identity Matrix in tensors"
      ],
      "metadata": {
        "id": "z7QTERZj2ERa"
      }
    },
    {
      "cell_type": "code",
      "source": [
        "eye_tensor = tf.eye(\n",
        "    num_rows=4,\n",
        "    num_columns=None,\n",
        "    batch_shape=None,\n",
        "    dtype=tf.dtypes.int16,\n",
        "    )\n",
        "print(eye_tensor)\n",
        "\n",
        "# Experimenting with batch size\n",
        "eye_tensor_batch_ = tf.eye(\n",
        "    num_rows=4,\n",
        "    num_columns=None,\n",
        "    batch_shape=[3, 2],\n",
        "    dtype=tf.dtypes.int16,\n",
        "    )\n",
        "print(eye_tensor_batch_)"
      ],
      "metadata": {
        "colab": {
          "base_uri": "https://localhost:8080/"
        },
        "id": "oXwFxHbs1YYC",
        "outputId": "aa8328bb-3388-4458-e8d0-adc4d8802bed"
      },
      "execution_count": 12,
      "outputs": [
        {
          "output_type": "stream",
          "name": "stdout",
          "text": [
            "tf.Tensor(\n",
            "[[1 0 0 0]\n",
            " [0 1 0 0]\n",
            " [0 0 1 0]\n",
            " [0 0 0 1]], shape=(4, 4), dtype=int16)\n",
            "tf.Tensor(\n",
            "[[[[1 0 0 0]\n",
            "   [0 1 0 0]\n",
            "   [0 0 1 0]\n",
            "   [0 0 0 1]]\n",
            "\n",
            "  [[1 0 0 0]\n",
            "   [0 1 0 0]\n",
            "   [0 0 1 0]\n",
            "   [0 0 0 1]]]\n",
            "\n",
            "\n",
            " [[[1 0 0 0]\n",
            "   [0 1 0 0]\n",
            "   [0 0 1 0]\n",
            "   [0 0 0 1]]\n",
            "\n",
            "  [[1 0 0 0]\n",
            "   [0 1 0 0]\n",
            "   [0 0 1 0]\n",
            "   [0 0 0 1]]]\n",
            "\n",
            "\n",
            " [[[1 0 0 0]\n",
            "   [0 1 0 0]\n",
            "   [0 0 1 0]\n",
            "   [0 0 0 1]]\n",
            "\n",
            "  [[1 0 0 0]\n",
            "   [0 1 0 0]\n",
            "   [0 0 1 0]\n",
            "   [0 0 0 1]]]], shape=(3, 2, 4, 4), dtype=int16)\n"
          ]
        }
      ]
    },
    {
      "cell_type": "code",
      "source": [
        "tf.fill([4, 2, 3], 6)"
      ],
      "metadata": {
        "colab": {
          "base_uri": "https://localhost:8080/"
        },
        "id": "93tCBD042fmW",
        "outputId": "703014ba-ddd1-4159-8206-5eff59cbf4ad"
      },
      "execution_count": 13,
      "outputs": [
        {
          "output_type": "execute_result",
          "data": {
            "text/plain": [
              "<tf.Tensor: shape=(4, 2, 3), dtype=int32, numpy=\n",
              "array([[[6, 6, 6],\n",
              "        [6, 6, 6]],\n",
              "\n",
              "       [[6, 6, 6],\n",
              "        [6, 6, 6]],\n",
              "\n",
              "       [[6, 6, 6],\n",
              "        [6, 6, 6]],\n",
              "\n",
              "       [[6, 6, 6],\n",
              "        [6, 6, 6]]], dtype=int32)>"
            ]
          },
          "metadata": {},
          "execution_count": 13
        }
      ]
    },
    {
      "cell_type": "code",
      "source": [
        "tf.ones(\n",
        "    shape=[2, 5, 3],\n",
        "    dtype=tf.dtypes.int16,\n",
        "    name=None\n",
        ")"
      ],
      "metadata": {
        "colab": {
          "base_uri": "https://localhost:8080/"
        },
        "id": "Vg7JBIyy4C_u",
        "outputId": "b1dc167b-e09c-4fdf-8eff-d9623ffaafb3"
      },
      "execution_count": 14,
      "outputs": [
        {
          "output_type": "execute_result",
          "data": {
            "text/plain": [
              "<tf.Tensor: shape=(2, 5, 3), dtype=int16, numpy=\n",
              "array([[[1, 1, 1],\n",
              "        [1, 1, 1],\n",
              "        [1, 1, 1],\n",
              "        [1, 1, 1],\n",
              "        [1, 1, 1]],\n",
              "\n",
              "       [[1, 1, 1],\n",
              "        [1, 1, 1],\n",
              "        [1, 1, 1],\n",
              "        [1, 1, 1],\n",
              "        [1, 1, 1]]], dtype=int16)>"
            ]
          },
          "metadata": {},
          "execution_count": 14
        }
      ]
    },
    {
      "cell_type": "code",
      "source": [
        "tf.ones_like([\n",
        "   [ 4, 5, 6],\n",
        "   [3, 2, 1]\n",
        "])"
      ],
      "metadata": {
        "colab": {
          "base_uri": "https://localhost:8080/"
        },
        "id": "7b-yZI3S4qY6",
        "outputId": "e09662a9-0027-478e-d068-4bab7600bfbb"
      },
      "execution_count": 15,
      "outputs": [
        {
          "output_type": "execute_result",
          "data": {
            "text/plain": [
              "<tf.Tensor: shape=(2, 3), dtype=int32, numpy=\n",
              "array([[1, 1, 1],\n",
              "       [1, 1, 1]], dtype=int32)>"
            ]
          },
          "metadata": {},
          "execution_count": 15
        }
      ]
    },
    {
      "cell_type": "code",
      "source": [
        "random_tensor = tf.random.normal(\n",
        "    [3, 4],\n",
        "    mean=1.0,\n",
        "    stddev=1.0,\n",
        "    dtype=tf.float32,\n",
        "    seed=None,\n",
        "    name=None\n",
        ")\n",
        "random_tensor"
      ],
      "metadata": {
        "colab": {
          "base_uri": "https://localhost:8080/"
        },
        "id": "k2NWK-yu5LfY",
        "outputId": "46d1b80f-c4ec-46da-a5f5-a8bd18aee9ff"
      },
      "execution_count": 20,
      "outputs": [
        {
          "output_type": "execute_result",
          "data": {
            "text/plain": [
              "<tf.Tensor: shape=(3, 4), dtype=float32, numpy=\n",
              "array([[ 1.5690465 ,  0.41563433, -0.43171108,  0.6475992 ],\n",
              "       [ 1.1889174 ,  0.74614024,  1.3675956 ,  1.1667556 ],\n",
              "       [ 0.77167094,  2.4699678 ,  0.8085933 ,  2.1754217 ]],\n",
              "      dtype=float32)>"
            ]
          },
          "metadata": {},
          "execution_count": 20
        }
      ]
    },
    {
      "cell_type": "code",
      "source": [
        "uniform_tensor = tf.random.uniform(\n",
        "    shape=[1, 3],\n",
        "    dtype=tf.float32,\n",
        "    minval=0,\n",
        "    maxval=None, # Default is 1\n",
        "    seed=None,\n",
        "    name=None\n",
        ")\n",
        "print(uniform_tensor)"
      ],
      "metadata": {
        "colab": {
          "base_uri": "https://localhost:8080/"
        },
        "id": "eQaHcDQA6Xbj",
        "outputId": "3f1490b7-e31c-4e8a-b0bd-7b50d589ce40"
      },
      "execution_count": 23,
      "outputs": [
        {
          "output_type": "stream",
          "name": "stdout",
          "text": [
            "tf.Tensor([[0.20839238 0.0876174  0.7885964 ]], shape=(1, 3), dtype=float32)\n"
          ]
        }
      ]
    }
  ]
}